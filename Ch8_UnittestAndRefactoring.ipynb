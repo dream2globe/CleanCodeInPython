{
 "cells": [
  {
   "cell_type": "markdown",
   "metadata": {},
   "source": [
    "# 디자인 원칙과 단위 테스트\n",
    "\n",
    "__단위테스트__\n",
    "- 이 책에선 소프트웨어의 핵심이 되는 필수적인 기능으로 간주\n",
    "- 비즈니스 로직이 특정 조건을 보장하는지 확인 하기 위해 여러 시나리오를 검증하는 코드\n",
    "\n",
    "__특징__\n",
    "- 격리: 다른 외부 에이전트와 완전히 독립적이어야 하며  비지니스 로직에만 집중해야한다.\n",
    "- 성능: 반복적으로 여러번 실행될 수 있도록 설계해야 한다.\n",
    "- 자체 검증: 실행만으로도 결과를 결정할 수 있어야 한다."
   ]
  },
  {
   "cell_type": "markdown",
   "metadata": {},
   "source": [
    "## 자동화된 테스트의 다른 형태\n",
    "- 단위 테스트는 매우 작은 단위를 확인하기 위한 것\n",
    "- 통합 테스트: 종합적으로 예상대로 잘 동작하는 검증하는 용도로 한번에 여러 컴포넌트를 테스트."
   ]
  },
  {
   "cell_type": "markdown",
   "metadata": {},
   "source": [
    "## 단위 테스트와 애자일 소프트웨어 개발\n",
    "- 소프트웨어 개발은 가능한 한 신속적이고 지속적으로 가치를 제공하려고 함\n",
    "- 단위테스트는 코드가 기대한 것처럼 동작한다는 확신을 줄 수 있는 안정망이 될 수 있음.\n",
    "- 좋은 테스트를 가질 수록 버그에 의해 프로젝트를 중단하지 않고 신속히 가치를 제공할 가능성이 높아짐."
   ]
  },
  {
   "cell_type": "markdown",
   "metadata": {},
   "source": [
    "## 단위 테스트와 소프트웨어 디자인\n",
    "- 좋은 소프트웨어는 테스트 가능한 소프트웨어이며, 테스트의 용이성은 클린코드의 핵심가치"
   ]
  },
  {
   "cell_type": "code",
   "execution_count": 4,
   "metadata": {},
   "outputs": [],
   "source": [
    "# 예제\n",
    "\n",
    "\"\"\"\n",
    "- 특정 작업에서 얻은 지표를 외부 시스템에 보내는 프로세스\n",
    "- process: 도메인 문제에 대한 일부 작업\n",
    "- MetricsClient: 외부 엔터티에 실제 지표를 전송하기 위한 객체\n",
    "\"\"\"\n",
    "\n",
    "class MetricsClient:\n",
    "    def send(self, metric_name, metric_value):\n",
    "        if not isinstance(metric_name, str):\n",
    "            raise TypeError(\"metric_name으로 문자열 타입을 사용해야 함.\")\n",
    "        \n",
    "        if not isinstance(metric_value, str):\n",
    "            raise TypeError(\"metric_value로 문자열 타입을 사용해야 함.\")\n",
    "        \n",
    "        logger.info(f\"{metric_name} 전송 값 = {metric_value}\")\n",
    "\n",
    "        \n",
    "class Process:\n",
    "    def __init__(self):\n",
    "        self.client = MetricsClient()\n",
    "    \n",
    "def process_iterations(self, n_iterations):\n",
    "    result = self.run_process()\n",
    "    self.client.send(\"iteration.\".format(i), result)"
   ]
  },
  {
   "cell_type": "markdown",
   "metadata": {},
   "source": [
    "타사 지표 전송 클라이언트는 파라미터가 문자열 타입이어야 한다는 요구사항이 있다. \n",
    "\n",
    "따라서 run_process에서 반환한 result가 문자열이 아닌 경우 전송에 실패하게 된다.\n",
    "\n",
    "--> 단위 테스트를 통해 해당 문제가 발생하지 않는다는 것을 확인한다."
   ]
  },
  {
   "cell_type": "code",
   "execution_count": 5,
   "metadata": {},
   "outputs": [],
   "source": [
    "\"\"\"\n",
    "필요한 부분만 테스트 하기 위해서\n",
    "main 메서드에서 client를 직접 다루지 않고 래퍼 메서드에 위임\n",
    "\"\"\"\n",
    "class WrapperClient:\n",
    "    def __init__(self):\n",
    "        self.client = MetricsClint()\n",
    "    \n",
    "    def send(self, metric_name, metric_value):\n",
    "        return self.cleint.send(str(metric_name), str(metric_value))\n",
    "\n",
    "\n",
    "class Process:\n",
    "    def __init__(self):\n",
    "        self.client = WrapperClient()\n",
    "...\n",
    "\n",
    "# 어댑터 디자인 패턴 방식과 유사"
   ]
  },
  {
   "cell_type": "code",
   "execution_count": 6,
   "metadata": {},
   "outputs": [],
   "source": [
    "\"\"\"\n",
    "실제 단위 테스트\n",
    "\"\"\"\n",
    "import unittest\n",
    "from unittest.mock import Mock\n",
    "\n",
    "class testWrappedClient(unittest.TestCase):\n",
    "    def test_send_converts_types(self):\n",
    "        wrapped_client.client = WrapperClient()\n",
    "        wrapped_client.client = Mock()\n",
    "        wrapped_client.send(\"value\", 1)\n",
    "        wrapped_client,client.send.assert_called_with(\"value\", \"1\")"
   ]
  },
  {
   "cell_type": "markdown",
   "metadata": {},
   "source": [
    "## 테스트의 경계 정하기\n",
    "- 테스트의 범위는 우리가 작성한 코드의 범위로 한정해야 한다."
   ]
  },
  {
   "cell_type": "markdown",
   "metadata": {},
   "source": [
    "# 테스트를 위한 프레임워크와 도구\n",
    "- unittest, pytest\n",
    "- 테스트 시나리오를 다루는 것은 unittest로도 충분하지만, 의존성이 많을 경우엔 픽스처라는 객체가 필요하고 이렇게 보다 복잡한 옵션이 필요한 경우엔 pytest가 적합"
   ]
  },
  {
   "cell_type": "code",
   "execution_count": 8,
   "metadata": {},
   "outputs": [],
   "source": [
    "\"\"\"\n",
    "머지 리퀘스트에 대해 코드 리뷰를 도와주는 버전 제어 도구\n",
    "- 한 명 이상의 사용자가 변경 내용에 동의하지 않은 경우 머지 리퀘스트가 거절(reject)된다\n",
    "- 아무도 반대하지 않은 상태에서 두 명 이상의 개발자가 동의시 해당 머지 리퀘스트는 승인(approved)된다\n",
    "- 이 외 상태는 보류(pending) 상태이다\n",
    "\"\"\"\n",
    "\n",
    "from enum import Enum\n",
    "\n",
    "\n",
    "class MergeRequestStatus(Enum):\n",
    "    APPROVED = \"approved\"\n",
    "    REJECTED = \"rejected\"\n",
    "    PENDING = \"pending\"\n",
    "\n",
    "\n",
    "class MergeRequest:\n",
    "    def __init__(self):\n",
    "        self._context = {\n",
    "            \"upvotes\": set(),\n",
    "            \"downvotes\": set()\n",
    "        }\n",
    "    \n",
    "    @property\n",
    "    def status(self):\n",
    "        if self._context[\"downvotes\"]:\n",
    "            return MergeRequestStatus.REJECTED\n",
    "        elif len(self._context[upvotes]) > 2:\n",
    "            return MergeRequestStatus.APPROVED\n",
    "        return MergeRequestStatus.PENDING\n",
    "    \n",
    "    def upvote(self, by_user):\n",
    "        self._context[\"downvotes\"].discard(by_user)\n",
    "        self._context[\"upvotes\"].add(by_user)\n",
    "    \n",
    "    def downvote(self, by_user):\n",
    "        self._context[\"upvotes\"].discard(by_user)\n",
    "        self._context[\"downvotes\"].add(by_user)"
   ]
  },
  {
   "cell_type": "markdown",
   "metadata": {},
   "source": [
    "## unittest\n",
    "- 표준 라이브러리에 포함되어 있고 다양한 API를 제공함\n",
    "- 자바의 JUnit 기반으로 객체지향적인 특징을 가지고 있다.\n",
    "- 클래스의 시나리오 별로 테스트를 그룹화하는 것이 일반적\n",
    "- 메서드는 test_ 로 시작해야 한다.\n",
    "\n",
    "*Django의 unit tests 역시 unittest를 사용한다.\n",
    "\n",
    "*아래 예시의 assertEqual()은  실행결과를 확인하는 메서드다. 이 외에도 assertTrue(), assertIn()등의 메서드가 있다. 검사하려는 리턴 값이 불린이 아닌 이상, 자세한 값의 검증을 위해선 assertTrue()등보다는 assertEqual()이 낫다.\n",
    "관련 링크 : [Assert 메서드 목록](https://docs.python.org/ko/3/library/unittest.html#assert-methods)"
   ]
  },
  {
   "cell_type": "code",
   "execution_count": 9,
   "metadata": {},
   "outputs": [],
   "source": [
    "class TestMergeRequestStatus(unittest.TestCase):\n",
    "    def test_simple_rejected(self):\n",
    "        merge_request = MergeRequest()\n",
    "        merge_request.downvote(\"maintainer\")\n",
    "        self.assertEqual(merge_request.status, MergeRequestStatus.REJECTED)\n",
    "    \n",
    "    def test_just_created_is_pending(self):\n",
    "        self.assertEqual(MergeRequest().status, MergeRequestStatus.PENDING)\n",
    "    \n",
    "    def test_pending_awaiting_review(self):\n",
    "        merge_request = MergeRequest()\n",
    "        merge_request.upvote(\"core-dev\")\n",
    "        self.assertEqual(merge_request.status, MergeRequestStatus.PENDING)\n",
    "    \n",
    "    def test_approved(self):\n",
    "        merge_request = MergeRequest()\n",
    "        merge_request.upvote(\"dev1\")\n",
    "        merge_request.upvote(\"dev2\")\n",
    "        self.assertEqual(merge_request.status, MergeRequestStatus.APPROVED)"
   ]
  },
  {
   "cell_type": "code",
   "execution_count": 10,
   "metadata": {},
   "outputs": [],
   "source": [
    "class MergeRequestStatus(Enum):\n",
    "    APPROVED = \"approved\"\n",
    "    REJECTED = \"rejected\"\n",
    "    PENDING = \"pending\"\n",
    "    OPEN = \"open\"\n",
    "    CLOSED = \"closed\"\n",
    "\n",
    "\n",
    "class MergeRequest:\n",
    "    def __init__(self):\n",
    "        self._context = {\n",
    "            \"upvotes\": set(),\n",
    "            \"downvotes\": set()\n",
    "        }\n",
    "        self._status = MergeRequestStatus.OPEN\n",
    "    \n",
    "    def close(self):\n",
    "        self._status - MergeRequestStatus.CLOSED\n",
    "    \n",
    "    def _cannot_vote_if_close(self):\n",
    "        if self._status == MergeRequestStatus.CLOSED:\n",
    "            raise MergeRequestException(\"종료된 머지 리퀘스트엔 투표할 수 없음\")\n",
    "    \n",
    "    @property\n",
    "    def status(self):\n",
    "        if self._context[\"downvotes\"]:\n",
    "            return MergeRequestStatus.REJECTED\n",
    "        elif len(self._context[upvotes]) > 2:\n",
    "            return MergeRequestStatus.APPROVED\n",
    "        return MergeRequestStatus.PENDING\n",
    "    \n",
    "    def upvote(self, by_user):\n",
    "        self._context[\"downvotes\"].discard(by_user)\n",
    "        self._context[\"upvotes\"].add(by_user)\n",
    "    \n",
    "    def downvote(self, by_user):\n",
    "        self._context[\"upvotes\"].discard(by_user)\n",
    "        self._context[\"downvotes\"].add(by_user)"
   ]
  },
  {
   "cell_type": "code",
   "execution_count": 11,
   "metadata": {},
   "outputs": [],
   "source": [
    "# 유효성 검사가 실제로 작동하는지 확인하는 코드,\n",
    "\n",
    "def test_cannot_upvote_on_merge_request(self):\n",
    "    self.merge_request.close()\n",
    "    self.assertRaises(\n",
    "        MergeRequestException, self.merge_request.upvote, \"dev1\"\n",
    "    )\n",
    "\n",
    "def test_cannot_downvote_on_merge_request(self):\n",
    "    self.merge_request.close()\n",
    "    self.assertRaisesRegex(\n",
    "        \"MergeRequestException\", self.merge_request.downvote, \"dev1\"\n",
    "    )"
   ]
  },
  {
   "cell_type": "markdown",
   "metadata": {},
   "source": [
    "__테스트 파라미터화__\n",
    "- 데이터에 따라 머지 리퀘스트가 정상적으로 동작하는지 확인하기 위해 임계값을 변경하며 테스트해보자"
   ]
  },
  {
   "cell_type": "code",
   "execution_count": 12,
   "metadata": {},
   "outputs": [],
   "source": [
    "# status 프로퍼티에서 종료 여부를 확인한 뒤에 코드를 테스트\n",
    "class AcceptanceThreshold:\n",
    "    def __init__(self, merge_request_context: dict) -> None:\n",
    "        self._context = merge_request_context\n",
    "\n",
    "    def status(self):\n",
    "        if self._context[\"downvotes\"]:\n",
    "            return MergeRequestStatus.REJECTED\n",
    "        elif len(self._context[\"upvotes\"]) >= 2:\n",
    "            return MergeRequestStatus.APPROVED\n",
    "        return MergeRequestStatus.PENDING\n",
    "\n",
    "\n",
    "class MergeRequest:\n",
    "    def __init__(self):\n",
    "        self._context = {\"upvotes\": set(), \"downvotes\": set()}\n",
    "        self._status = MergeRequestStatus.OPEN\n",
    "\n",
    "    def close(self):\n",
    "        self._status = MergeRequestStatus.CLOSED\n",
    "\n",
    "    @property\n",
    "    def status(self):\n",
    "        if self._status == MergeRequestStatus.CLOSED:\n",
    "            return self._status\n",
    "\n",
    "        return AcceptanceThreshold(self._context).status()\n",
    "\n",
    "# 테스트 통과 -> 작은 리팩토링이 기능을 손상시키지 않은 것"
   ]
  },
  {
   "cell_type": "code",
   "execution_count": 14,
   "metadata": {},
   "outputs": [],
   "source": [
    "class TestAcceptanceThreshold(unittest.TestCase):\n",
    "    def setUp(self):\n",
    "        self.fixture_data = (\n",
    "            (\n",
    "                {\"downvotes\": set(), \"upvotes\": set()},\n",
    "                MergeRequestExtendedStatus.PENDING,\n",
    "            ),\n",
    "            (\n",
    "                {\"downvotes\": set(), \"upvotes\": {\"dev1\"}},\n",
    "                MergeRequestExtendedStatus.PENDING,\n",
    "            ),\n",
    "            (\n",
    "                {\"downvotes\": \"dev1\", \"upvotes\": set()},\n",
    "                MergeRequestExtendedStatus.REJECTED,\n",
    "            ),\n",
    "            (\n",
    "                {\"downvotes\": set(), \"upvotes\": {\"dev1\", \"dev2\"}},\n",
    "                MergeRequestExtendedStatus.APPROVED,\n",
    "            ),\n",
    "        )\n",
    "\n",
    "    def test_status_resolution(self):\n",
    "        for context, expected in self.fixture_data:\n",
    "            with self.subTest(context=context):\n",
    "                status = AcceptanceThreshold(context).status()\n",
    "                self.assertEqual(status, expected)"
   ]
  },
  {
   "cell_type": "markdown",
   "metadata": {},
   "source": [
    "- setUp: 테스트 전반에 걸쳐 사용될 데이터 픽스처 정의\n",
    "- 모든 경우에 대해 테스트하려면 모든 데이터를 반복하며 각 인스턴스에 대해 테스트를 해야한다."
   ]
  },
  {
   "cell_type": "markdown",
   "metadata": {},
   "source": [
    "## pytest\n",
    "- pip install pytest 로 설치할 수 있는 테스트 프레임워크\n",
    "- 객체지향모델 생성이 필수사항이 아니며, 단순 assert 구문을 사용해 조건 검사가 가능\n",
    "- pytest 명령어를 사용해 탐색 가능한 모든 테스트를 한번에 실행 -> unittest랑도 호환된다"
   ]
  },
  {
   "cell_type": "code",
   "execution_count": 15,
   "metadata": {},
   "outputs": [],
   "source": [
    "# 어설션 사용 예\n",
    "\n",
    "def test_simple_rejected():\n",
    "    merge_request = MergeRequest()\n",
    "    merge_request.downvote(\"maintainer\")\n",
    "    assert merge_request.status == MergeRequestStatus.REJECTED\n",
    "\n",
    "\n",
    "def test_just_created_is_pending():\n",
    "    assert MergeRequest().status == MergeRequestStatus.PENDING\n",
    "\n",
    "\n",
    "def test_pending_awaiting_review():\n",
    "    merge_request = MergeRequest()\n",
    "    merge_request.upvote(\"core-dev\")\n",
    "    assert merge_request.status == MergeRequestStatus.PENDING\n",
    "\n",
    "def test_invalid_types():\n",
    "    merge_request = MergeRequest()\n",
    "    pytest.raises(TypeError, merge_request.upvote, {\"invalid-object\"})\n",
    "\n",
    "\n",
    "def test_cannot_vote_on_closed_merge_request():\n",
    "    merge_request = MergeRequest()\n",
    "    merge_request.close()\n",
    "    pytest.raises(MergeRequestException, merge_request.upvote, \"dev1\")\n",
    "    with pytest.raises(\n",
    "        MergeRequestException, match=\"can't vote on a closed merge request\"\n",
    "    ):\n",
    "        merge_request.downvote(\"dev1\")"
   ]
  },
  {
   "cell_type": "markdown",
   "metadata": {},
   "source": [
    "__테스트 파라미터화__\n",
    "- 테스트 조합마다 새로운 테스트 케이스를 생성하므로 이전보다 더 훌륭한 테스트 가능\n",
    "- pytest.mark.parameterize 데코레이터를 사용해야 한다."
   ]
  },
  {
   "cell_type": "code",
   "execution_count": 18,
   "metadata": {},
   "outputs": [
    {
     "ename": "ModuleNotFoundError",
     "evalue": "No module named 'pytest'",
     "output_type": "error",
     "traceback": [
      "\u001b[0;31m---------------------------------------------------------------------------\u001b[0m",
      "\u001b[0;31mModuleNotFoundError\u001b[0m                       Traceback (most recent call last)",
      "\u001b[0;32m<ipython-input-18-a31c9e24ab67>\u001b[0m in \u001b[0;36m<module>\u001b[0;34m\u001b[0m\n\u001b[0;32m----> 1\u001b[0;31m \u001b[0;32mimport\u001b[0m \u001b[0mpytest\u001b[0m\u001b[0;34m\u001b[0m\u001b[0m\n\u001b[0m\u001b[1;32m      2\u001b[0m \u001b[0;34m\u001b[0m\u001b[0m\n\u001b[1;32m      3\u001b[0m @pytest.mark.parametrize(\n\u001b[1;32m      4\u001b[0m     \u001b[0;34m\"context,expected_status\"\u001b[0m\u001b[0;34m,\u001b[0m\u001b[0;34m\u001b[0m\u001b[0m\n\u001b[1;32m      5\u001b[0m     (\n",
      "\u001b[0;31mModuleNotFoundError\u001b[0m: No module named 'pytest'"
     ]
    }
   ],
   "source": [
    "import pytest\n",
    "\n",
    "@pytest.mark.parametrize(\n",
    "    \"context,expected_status\",\n",
    "    (\n",
    "        ({\"downvotes\": set(), \"upvotes\": set()}, MergeRequestStatus.PENDING),\n",
    "        (\n",
    "            {\"downvotes\": set(), \"upvotes\": {\"dev1\"}},\n",
    "            MergeRequestStatus.PENDING,\n",
    "        ),\n",
    "        ({\"downvotes\": \"dev1\", \"upvotes\": set()}, MergeRequestStatus.REJECTED),\n",
    "        (\n",
    "            {\"downvotes\": set(), \"upvotes\": {\"dev1\", \"dev2\"}},\n",
    "            MergeRequestStatus.APPROVED,\n",
    "        ),\n",
    "    ),\n",
    ")\n",
    "\n",
    "def test_acceptance_threshold_status_resolution(context, expected_status):\n",
    "    assert AcceptanceThreshold(context).status() == expected_status"
   ]
  },
  {
   "cell_type": "markdown",
   "metadata": {},
   "source": [
    "__픽스처__\n",
    "- fixture: 테스트 사전/사후에 사용 가능한 리소스 혹은 모듈\n",
    "- pytest는 재사용 가능한 기능을 쉽게 만들 수 있다.\n",
    "\n",
    "> Two scoops of django에 따르면 픽스처에 대해 지나치게 신뢰하는 것 역시 문제를 일으킬 수 있다고도 한다. Django에서 픽스처를 사용하는 경우는 대개 데이터베이스와 연관된 경우가 많은데, DB의 데이터 변경을 픽스처에 반영해줘야 하기 때문이다. 때문에 픽스처와 씨름하기보다는 때론 ORM에 의존하는 코드를 제작하는 편이 좋을 수도 있다. 테스트 데이터를 생성해주는 도구로는 factory boy, model mommy등이 있다."
   ]
  },
  {
   "cell_type": "code",
   "execution_count": 2,
   "metadata": {},
   "outputs": [],
   "source": [
    "@pytest.fixture\n",
    "def rejected_mr():\n",
    "    merge_request = MergeRequest()\n",
    "\n",
    "    merge_request.downvote(\"dev1\")\n",
    "    merge_request.upvote(\"dev2\")\n",
    "    merge_request.upvote(\"dev3\")\n",
    "    merge_request.downvote(\"dev4\")\n",
    "\n",
    "    return merge_request\n",
    "\n",
    "\n",
    "def test_simple_rejected(rejected_mr):\n",
    "    assert rejected_mr.status == MergeRequestStatus.REJECTED\n",
    "\n",
    "\n",
    "def test_rejected_with_approvals(rejected_mr):\n",
    "    rejected_mr.upvote(\"dev2\")\n",
    "    rejected_mr.upvote(\"dev3\")\n",
    "    assert rejected_mr.status == MergeRequestStatus.REJECTED\n",
    "\n",
    "\n",
    "def test_rejected_to_pending(rejected_mr):\n",
    "    rejected_mr.upvote(\"dev1\")\n",
    "    assert rejected_mr.status == MergeRequestStatus.PENDING\n",
    "\n",
    "\n",
    "def test_rejected_to_approved(rejected_mr):\n",
    "    rejected_mr.upvote(\"dev1\")\n",
    "    rejected_mr.upvote(\"dev2\")\n",
    "    assert rejected_mr.status == MergeRequestStatus.APPROVED"
   ]
  },
  {
   "cell_type": "markdown",
   "metadata": {},
   "source": [
    "__코드 커버리지__\n",
    "- 테스트 도중 코드의 어떤 부분이 실행되었는지 알려준다\n",
    "- coverage 라이브러리가 대중적\n",
    "\n",
    "__coverage.py__\n",
    "- 테스트가 얼마만큼 커버하는지에 대한 정도를 퍼센트로 제공할 뿐만 아니라 코드의 어떤 부분이 테스트되지 않았는지도 보여주는 도구\n",
    "\n",
    "- pytest 의 경우 pytest-cov 패키지 설치. \n",
    "- 단순히 높은 커버리지를 갖는것이 클린코드의 조건은 아니다. 따라서 커버리지 보고서를 분석할 때 주의해야 함."
   ]
  },
  {
   "cell_type": "raw",
   "metadata": {},
   "source": [
    "*coverage.py report 예시\n",
    "> Name                     Stmts   Miss Branch BrPart  Cover   Missing\n",
    "--------------------------------------------------------------------\n",
    "settings/dev.py              2      2      0      0     0%   4-6\n",
    "testapp/models.py            1      1      0      0     0%   5\n",
    "testapp/test_api.py        400      2      0      0    99%   366, 375\n",
    "testapp/test_models.py       6      4      0      0    33%   5-8\n",
    "urls.py                      9      0      2      1    91%   16->exit\n",
    "--------------------------------------------------------------------\n",
    "TOTAL                      811      9      4      1    99%\n",
    "\n",
    "15 files skipped due to complete coverage."
   ]
  },
  {
   "cell_type": "markdown",
   "metadata": {},
   "source": [
    "__모의(mock) 객체__\n",
    "- 원하지 않는 부작용으로부터 테스트 코드를 보호하는 방법\n",
    "- 실제 데이터에 문제를 일으키지 않고 단위테스트가 가능하다.\n",
    "\n",
    "\n",
    "## Mock 객체 사용하기\n",
    "- Mock은 스펙을 따르는 객체 타입으로 응답값을 수정할 수 있다.\n",
    "\n",
    "__Mock 객체의 종류__\n",
    "- 파이썬 표준 라이브러리는 unittest.mock 모듈에서 Mock, MagicMock 제공\n",
    "- 전자는 모든 값을 반환하도록 설정할 수 있는 테스트 더블이며 모든 호출 추적, 후자는 똑같으나 매직 메서드를 지원\n",
    "- 만약 Mock 객체에서 매직 메서드를 사용하려 하면 에러 발생\n",
    "*매직메서드: 클래스안에 정의할 수 있는 스페셜 메소드이며 클래스를 int, str, list등의 파이썬의 빌트인 타입(built-in type)과 같은 작동을 하게 해준다."
   ]
  },
  {
   "cell_type": "code",
   "execution_count": 20,
   "metadata": {},
   "outputs": [],
   "source": [
    "from typing import Dict, List\n",
    "\n",
    "\n",
    "class GitBranch:\n",
    "    def __init__(self, commits: List[Dict]):\n",
    "        self._commits = {c[\"id\"]: c for c in commits}\n",
    "\n",
    "    def __getitem__(self, commit_id):\n",
    "        return self._commits[commit_id]\n",
    "\n",
    "    def __len__(self):\n",
    "        return len(self._commits)\n",
    "\n",
    "\n",
    "def author_by_id(commit_id, branch):\n",
    "    return branch[commit_id][\"author\"]"
   ]
  },
  {
   "cell_type": "code",
   "execution_count": 21,
   "metadata": {},
   "outputs": [],
   "source": [
    "def test_find_commit():\n",
    "    branch = GitBranch([{\"id\": \"123\", \"author\": \"dev1\"}])\n",
    "    assert author_by_id(\"123\", branch) == \"dev1\"\n",
    "\n",
    "# 매직 메서드를 사용했으므로 예상한 것처럼 제대로 동작하지 않는다\n",
    "\n",
    "def test_find_any():\n",
    "    mbranch = MagicMock()\n",
    "    mbranch.__getitem__.return_value = {\"author\": \"test\"}\n",
    "    assert author_by_id(\"123\", mbranch) == \"test\""
   ]
  },
  {
   "cell_type": "markdown",
   "metadata": {},
   "source": [
    "__테스트 더블의 사용 예__"
   ]
  },
  {
   "cell_type": "markdown",
   "metadata": {},
   "source": [
    "## 리팩토링\n",
    "- 구조를 개선하여 더 나은 코드로 만들거나 혹은 일반적 코드로 수정하여 가독성을 높이거나\n",
    "\n",
    "__코드의 진화__\n",
    "- 앞의 예제의 단점: 모의하려는 객체의 경로를 문자열로 제공하기 때문에, 파일이름을 변경하고나 위치를 이동하는 식으로 리팩토링시 패치한 모든 곳을 업데이트하거나 테스트가 실패함.\n",
    "- 메서드를 더 작은 메서드로 나누고 의존성을 주입해서 리팩토링"
   ]
  },
  {
   "cell_type": "code",
   "execution_count": 3,
   "metadata": {},
   "outputs": [],
   "source": [
    "from datetime import datetime\n",
    "\n",
    "from constants import STATUS_ENDPOINT\n",
    "\n",
    "\n",
    "class BuildStatus:\n",
    "\n",
    "    endpoint = STATUS_ENDPOINT\n",
    "\n",
    "    def __init__(self, transport):\n",
    "        self.transport = transport\n",
    "\n",
    "    @staticmethod\n",
    "    def build_date() -> str:\n",
    "        return datetime.utcnow().isoformat()\n",
    "\n",
    "    def compose_payload(self, merge_request_id, status) -> dict:\n",
    "        return {\n",
    "            \"id\": merge_request_id,\n",
    "            \"status\": status,\n",
    "            \"built_at\": self.build_date(),\n",
    "        }\n",
    "\n",
    "    def deliver(self, payload):\n",
    "        response = self.transport.post(self.endpoint, json=payload)\n",
    "        response.raise_for_status()\n",
    "        return response\n",
    "\n",
    "    def notify(self, merge_request_id, status):\n",
    "        return self.deliver(self.compose_payload(merge_request_id, status))"
   ]
  },
  {
   "cell_type": "code",
   "execution_count": 6,
   "metadata": {},
   "outputs": [],
   "source": [
    "from unittest.mock import Mock\n",
    "\n",
    "import pytest\n",
    "\n",
    "from refactoring_1 import BuildStatus\n",
    "\n",
    "\n",
    "@pytest.fixture\n",
    "def build_status():\n",
    "    bstatus = BuildStatus(Mock())\n",
    "    bstatus.build_date = Mock(return_value=\"2018-01-01T00:00:01\")\n",
    "    return bstatus\n",
    "\n",
    "\n",
    "def test_build_notification_sent(build_status):\n",
    "\n",
    "    build_status.notify(1234, \"OK\")\n",
    "\n",
    "    expected_payload = {\n",
    "        \"id\": 1234,\n",
    "        \"status\": \"OK\",\n",
    "        \"built_at\": build_status.build_date(),\n",
    "    }\n",
    "\n",
    "    build_status.transport.post.assert_called_with(\n",
    "        build_status.endpoint, json=expected_payload\n",
    "    )"
   ]
  },
  {
   "cell_type": "code",
   "execution_count": null,
   "metadata": {},
   "outputs": [],
   "source": []
  }
 ],
 "metadata": {
  "kernelspec": {
   "display_name": "Python 3",
   "language": "python",
   "name": "python3"
  },
  "language_info": {
   "codemirror_mode": {
    "name": "ipython",
    "version": 3
   },
   "file_extension": ".py",
   "mimetype": "text/x-python",
   "name": "python",
   "nbconvert_exporter": "python",
   "pygments_lexer": "ipython3",
   "version": "3.6.4"
  }
 },
 "nbformat": 4,
 "nbformat_minor": 2
}
