{
 "nbformat": 4,
 "nbformat_minor": 2,
 "metadata": {
  "language_info": {
   "name": "python",
   "codemirror_mode": {
    "name": "ipython",
    "version": 3
   },
   "version": "3.8.0"
  },
  "orig_nbformat": 2,
  "file_extension": ".py",
  "mimetype": "text/x-python",
  "name": "python",
  "npconvert_exporter": "python",
  "pygments_lexer": "ipython3",
  "version": 3
 },
 "cells": [
  {
   "cell_type": "markdown",
   "execution_count": null,
   "metadata": {},
   "outputs": [],
   "source": [
    "# Chapter 1. 소개 및 코드 포매팅과 도구\n",
    "\n",
    "<br></br>\n",
    "## 클린 코드의 의미 \n",
    "+ 프로그래밍 언어라는 것은 인간의 아이디어를 컴퓨터에 전달하는 언어가 아니라 아이디어를 다른 개발자에게 전달하는 것\n",
    "+ 따라서 클린코드의 기준은 다른 엔지니어가 코드를 읽고 유지 관리할 수 있는지 여부\n",
    "\n",
    "<br></br>\n",
    "## 클린 코드의 중요성\n",
    "+ 기술부채는 나쁜 결정이나 적당한 타협의 결과로 생긴 소프트웨어적 결함을 의미\n",
    "    + 과거의 방향(현재 문제가 과제의 타협에서 옴)과 미래의 방향(미래 문제의 원인을 제공)으로 생각해볼 수 있음\n",
    "    + 지금 바꾸는 것보다 미래에 변경하는 것이 더 어렵기 때문에 부채라는 단어가 딱 어울림\n",
    "    + 가장 안 좋은 점은 장기적이고 근본적인 문제를 내포하므로 언젠가는 깨어나 프로젝트의 돌발 변수가 될 수 있음\n",
    "\n",
    "#### 클린 코드에서 코드 포매팅의 역할\n",
    "+ 클린 코드는 코드 포매팅 그 이상의 것을 의미하며 유지보수성이나 소프트웨어 품질에 관한 것을 말함\n",
    "+ 그러나, PEP-8 준수와 같은 것과 않으나 작업의 효율화를 위해 중요\n",
    "+ PEP-8 : https://b.luavis.kr/python/python-convention\n",
    "\n",
    "#### 프로젝트 코딩 스타일 가이드 준수\n",
    "+ 좋은 코드 레이아웃에서 가장 필요한 특성은 일관성\n",
    "+ 파이썬은 코딩 스타일로 PEP-8을 사용\n",
    "    + 검색의 효율성 : grep -nr \"local=\" 과 grep -nr \"local =\" 의 스페이스 차이\n",
    "    + 일관성 : 코드의 가독성이 향상됨\n",
    "    + 코드 품질 : 잠재적인 버그를 찾을 수 있음\n",
    "\n",
    "<br></br>\n",
    "## Docstring과 어노테이션\n",
    "+ 주석은 되도록 지양, 문서화(Docstring)로 대체\n",
    "+ 어노테이션은 파이썬의 동적 타입으로 인한 모호성을 개선하고, Mypy 같은 도구의 자동화 검증 수단으로도 활용 가능\n",
    "\n",
    "#### Docstring\n",
    "+ 소스 코드에 포함된 문서이며 코멘트가 아님\n",
    "+ 가능한 많은 docstring을 추가하는 것을 권장함\n",
    "+ 예상되는 함수의 입력과 출력을 문서화하면 사용할 때 이해하기 쉬움\n",
    "+ Sphinx(스핑크스)를 실행하면 프로젝트 문서화의 기본골격을 자동 생성하고 Docstring을 가져와 문서화된 페이지를 만들어 줌\n",
    "    + https://kshyun87.tistory.com/63\n"
   ]
  },
  {
   "cell_type": "code",
   "execution_count": 10,
   "metadata": {},
   "outputs": [
    {
     "name": "stdout",
     "output_type": "stream",
     "text": "D.update([E, ]**F) -> None.  Update D from dict/iterable E and F.\nIf E is present and has a .keys() method, then does:  for k in E: D[k] = E[k]\nIf E is present and lacks a .keys() method, then does:  for k, v in E: D[k] = v\nIn either case, this is followed by: for k in F:  D[k] = F[k]\n"
    }
   ],
   "source": [
    "\"\"\" dict.update의 dostring 내용 \"\"\"\n",
    "print(dict.update.__doc__) # __doc__로 Dostring 접근"
   ]
  },
  {
   "cell_type": "code",
   "execution_count": 14,
   "metadata": {},
   "outputs": [
    {
     "name": "stdout",
     "output_type": "stream",
     "text": "{1: 'one', 2: 'two'}\n{1: 'one', 2: 'two', 3: 'three', 4: 'four'}\n"
    }
   ],
   "source": [
    "\"\"\" dict.update의 docstring 활용 \"\"\"\n",
    "\n",
    "# dictionary를 통한 업데이트\n",
    "d = {}\n",
    "d.update({1:\"one\", 2:\"two\"})\n",
    "print(d)\n",
    "\n",
    "# 이터러블을 통한 업데이트\n",
    "d.update([(3, \"three\"), (4, \"four\")])\n",
    "print(d)"
   ]
  },
  {
   "cell_type": "code",
   "execution_count": 15,
   "metadata": {},
   "outputs": [
    {
     "data": {
      "text/plain": "'임의의 계산 수행'"
     },
     "execution_count": 15,
     "metadata": {},
     "output_type": "execute_result"
    }
   ],
   "source": [
    "\"\"\" docstring 작성 \"\"\"\n",
    "\n",
    "def my_function():\n",
    "    \"\"\"임의의 계산 수행\"\"\"\n",
    "    return None\n",
    "\n",
    "my_function.__doc__"
   ]
  },
  {
   "cell_type": "markdown",
   "execution_count": null,
   "metadata": {},
   "outputs": [],
   "source": [
    "#### 어노테이션\n",
    "+ 코드 사용자에게 함수 인자로 어떤 값이 와야 하는지 힌트 제공\n",
    "+ 파이썬이 타입을 검사하거나 강제하지는 않음\n",
    "+ \\_\\_annotations\\_\\_ 이라는 특수 속성이 생김"
   ]
  },
  {
   "cell_type": "code",
   "execution_count": 16,
   "metadata": {},
   "outputs": [
    {
     "data": {
      "text/plain": "{'lattitude': float, 'longitude': float, 'return': __main__.Point}"
     },
     "execution_count": 16,
     "metadata": {},
     "output_type": "execute_result"
    }
   ],
   "source": [
    "\"\"\" 사용법 \"\"\"\n",
    "\n",
    "class Point:\n",
    "    def __init__(self, lat, long):\n",
    "        self.lat = lat\n",
    "        self.long = long\n",
    "\n",
    "def locate(lattitude: float, longitude: float) -> Point:\n",
    "    pass\n",
    "\n",
    "locate.__annotations__"
   ]
  },
  {
   "cell_type": "code",
   "execution_count": 17,
   "metadata": {},
   "outputs": [
    {
     "data": {
      "text/plain": "{'lat': float, 'long': float}"
     },
     "execution_count": 17,
     "metadata": {},
     "output_type": "execute_result"
    }
   ],
   "source": [
    "\"\"\" 변수에 적용 \"\"\"\n",
    "\n",
    "class Point:\n",
    "    lat: float\n",
    "    long: float\n",
    "\n",
    "Point.__annotations__"
   ]
  },
  {
   "cell_type": "markdown",
   "execution_count": null,
   "metadata": {},
   "outputs": [],
   "source": [
    "#### 어노테이션은 docstring을 대체하는 것일까?\n",
    "+ 일부 대체 가능하지만 보다 나은 문서화를 위한 여지를 남겨두어야 함\n",
    "+ 파라미터가 기댓값과 다를 경우 예외 등을 기술 할 수 있음(page 29 참고)\n",
    "\n",
    "#### 기본 품질 향상을 위한 도구 설정\n",
    "+ mypy : 프로젝트의 모든 파일을 분석하여 타입 불일치를 검사\n",
    "+ Pylint : PEP-8을 준수했는지 여부를 검사\n",
    "    + .pylintrc 파일을 통해 설정 값을 바꿀 수 있음\n",
    "+ black : PEP-8을 준수했는지 여부를 검사하고 자동으로 바꿈\n",
    "    + PEP-8 보다도 엄격한 기준을 적용(Uncompromising Code Formatter)\n",
    "    + https://jonnung.dev/python/2019/11/10/python-black-uncompromising-code-formatter/\n",
    "※ makefile\n",
    "\n",
    "\n",
    "```\n",
    "Before running black formatter -\n",
    "def my_function(name):\n",
    "    return 'received {0}'.format(name.title())\n",
    "```\n",
    "\n",
    "```\n",
    "Return modified source -\n",
    "def my_function(name):\n",
    "    return \"received {0}\".format(name.title())\n",
    "```\n"
   ]
  }
 ]
}