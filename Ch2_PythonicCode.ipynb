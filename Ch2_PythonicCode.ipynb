{
 "nbformat": 4,
 "nbformat_minor": 2,
 "metadata": {
  "language_info": {
   "name": "python",
   "codemirror_mode": {
    "name": "ipython",
    "version": 3
   },
   "version": "3.8.0-final"
  },
  "orig_nbformat": 2,
  "file_extension": ".py",
  "mimetype": "text/x-python",
  "name": "python",
  "npconvert_exporter": "python",
  "pygments_lexer": "ipython3",
  "version": 3,
  "kernelspec": {
   "name": "python3",
   "display_name": "Python 3"
  }
 },
 "cells": [
  {
   "cell_type": "markdown",
   "execution_count": 1,
   "metadata": {},
   "outputs": [
    {
     "ename": "ModuleNotFoundError",
     "evalue": "No module named 'pandas'",
     "output_type": "error",
     "traceback": [
      "\u001b[0;31m---------------------------------------------------------------------------\u001b[0m",
      "\u001b[0;31mModuleNotFoundError\u001b[0m                       Traceback (most recent call last)",
      "\u001b[0;32m<ipython-input-1-38d4b0363d82>\u001b[0m in \u001b[0;36m<module>\u001b[0;34m\u001b[0m\n\u001b[0;32m----> 1\u001b[0;31m \u001b[0;32mimport\u001b[0m \u001b[0mpandas\u001b[0m\u001b[0;34m\u001b[0m\u001b[0;34m\u001b[0m\u001b[0m\n\u001b[0m",
      "\u001b[0;31mModuleNotFoundError\u001b[0m: No module named 'pandas'"
     ]
    }
   ],
   "source": [
    "# Chapter 2. 파이썬스러운(pythonic) 코드\n",
    "+ 이 장의 목표\n",
    "    + 인덱스와 슬라이스를 이해하고 인덱싱 가능한 객체를 올바른 방식으로 구현\n",
    "    + 시퀀스와 이터러블 구현\n",
    "    + 매직 메서드를 사요해 보다 관용적인 코드 구현\n",
    "    + 부작용을 유발하는 흔한 실수 피하기"
   ]
  },
  {
   "cell_type": "markdown",
   "execution_count": null,
   "metadata": {},
   "outputs": [],
   "source": [
    "## 인덱스와 슬라이스"
   ]
  },
  {
   "cell_type": "code",
   "execution_count": 1,
   "metadata": {},
   "outputs": [
    {
     "name": "stdout",
     "output_type": "stream",
     "text": "음수 인덱스: 9 5\nslice 1: (3, 9)\nslice 2: (4, 5, 3)\nslice 3: (9,)\nslice 4: (9, 3, 5, 4)\n\n\nslice index: (5, 9)\nslice object: (5, 9)\n\n\nslice object vs index: True\n"
    }
   ],
   "source": [
    "my_numbers = (4, 5, 3, 9)\n",
    "\n",
    "print(\"음수 인덱스:\", my_numbers[-1], my_numbers[-3])\n",
    "print(\"slice 1:\", my_numbers[2:5])\n",
    "print(\"slice 2:\", my_numbers[:3])\n",
    "print(\"slice 3:\", my_numbers[3:])\n",
    "print(\"slice 4:\", my_numbers[::-1])\n",
    "\n",
    "print(\"\\n\")\n",
    "print(\"slice index:\", my_numbers[1:7:2])\n",
    "print(\"slice object:\", my_numbers[slice(1, 7, 2)])\n",
    "\n",
    "print(\"\\n\")\n",
    "interval = slice(None, 3)\n",
    "print(\"slice object vs index:\", my_numbers[interval] == my_numbers[:3])"
   ]
  },
  {
   "cell_type": "markdown",
   "execution_count": null,
   "metadata": {},
   "outputs": [],
   "source": [
    "## 자체 시퀀스 생성\n",
    "+ 범위로 인덱싱하는 결과는 해당 클래스와 같은 타입의 인스턴스여아 한다.\n",
    "+ slice에 의해 제공된 범위는 파이썬이 하는 것처럼 마지막 요소는 제외한다."
   ]
  },
  {
   "cell_type": "code",
   "execution_count": 2,
   "metadata": {},
   "outputs": [],
   "source": [
    "\"\"\" list wrapping 사례 \"\"\"\n",
    "\n",
    "class Item:\n",
    "    def __init__(self, *values):\n",
    "        self._value = list(values)\n",
    "    \n",
    "    def __len__(self):\n",
    "        return len(self._value)\n",
    "\n",
    "    def __getitem__(self, index):\n",
    "        return self._value.__getitem__(index)"
   ]
  },
  {
   "cell_type": "code",
   "execution_count": 3,
   "metadata": {},
   "outputs": [
    {
     "name": "stdout",
     "output_type": "stream",
     "text": "3\n[4, 5]\n<class 'list'>\n"
    }
   ],
   "source": [
    "item = Item(3, 4, 5)\n",
    "print(len(item))\n",
    "print(item[1:])\n",
    "print(type(item[1:]))"
   ]
  },
  {
   "cell_type": "markdown",
   "execution_count": null,
   "metadata": {},
   "outputs": [],
   "source": [
    "## 컨텍스트 관리자\n",
    "+ __enter__와 __exit__ 두 개의 매직 메서드로 구성됨\n",
    "+ with 문은 __enter__ 메서드를 호추랗고 이 메서드가 무엇을 반환하든 as 이후에 지정된 변수에 할당됨\n",
    "+ 해당 블록에 대한 마지막 문장이 끝나면 컨텍스트가 종료되며 __exit__ 메서드를 호출함\n",
    "+ 블록 내에 예외 또는 오류가 있는 경우에도 __exit__ 메서드가 여전히 호출되며, 예외는 파라미터로 확인 가능\n",
    "    + True를 반환하면 잠재적으로 발생한 예외를 호출자에게 전파하지 않고 정지함을 의미하나 좋지 않은 습관임"
   ]
  },
  {
   "cell_type": "code",
   "execution_count": 4,
   "metadata": {},
   "outputs": [
    {
     "name": "stdout",
     "output_type": "stream",
     "text": "systemctl stop postgresql.service\npg_dump database\nsystemctl start postgresql.service\n"
    }
   ],
   "source": [
    "\"\"\" 컨텍스트 관리자를 활용한 DB Dump 사례 \"\"\"\n",
    "\n",
    "def stop_database():\n",
    "    print(\"systemctl stop postgresql.service\")\n",
    "\n",
    "def start_database():\n",
    "    print(\"systemctl start postgresql.service\")\n",
    "\n",
    "\n",
    "class DBHandler:\n",
    "    def __enter__(self):\n",
    "        stop_database()\n",
    "        return self\n",
    "\n",
    "    def __exit__(self, exc_type, ex_value, ex_traceback):\n",
    "        start_database()\n",
    "\n",
    "\n",
    "def db_backup():\n",
    "    print(\"pg_dump database\")\n",
    "\n",
    "def main():\n",
    "    with DBHandler():\n",
    "        db_backup()\n",
    "\n",
    "main()"
   ]
  },
  {
   "cell_type": "markdown",
   "execution_count": null,
   "metadata": {},
   "outputs": [],
   "source": [
    "### 컨텍스트 관리자 구현\n",
    "+ contextlib 모듈을 활용한 컨텍스트 관리자 구현 가능\n",
    "    + contextlib.contextmanager 데코레이터를 적용하면 해당 함수의 코드를 컨텍스트 관리자로 변환함\n",
    "    + contextlib.ContextDecorator 를 사용하면 with문 없이 완전히 독립적인 실행가능\n",
    "        + 컨텍스트 관리자 내부에서 사용하고자 하는 객체를 얻을 수 없는 단점\n",
    "        + e.g.) with offline_back() as bp: 처럼 사용할 수 없음\n",
    "    + with contextlib.suppress(DataConversionException) 은 로직 자체적으로 처리하고 있음을 예외임을 명시하고 실패하지 않도록 함"
   ]
  },
  {
   "cell_type": "code",
   "execution_count": 5,
   "metadata": {},
   "outputs": [
    {
     "name": "stdout",
     "output_type": "stream",
     "text": "systemctl stop postgresql.service\npg_dump database\nsystemctl start postgresql.service\n"
    }
   ],
   "source": [
    "import contextlib\n",
    "\n",
    "@contextlib.contextmanager\n",
    "def db_handler():\n",
    "    stop_database()\n",
    "    yield\n",
    "    start_database()\n",
    "\n",
    "def main():\n",
    "    with db_handler():\n",
    "        db_backup()\n",
    "\n",
    "main()"
   ]
  },
  {
   "cell_type": "code",
   "execution_count": 6,
   "metadata": {},
   "outputs": [],
   "source": [
    "import contextlib\n",
    "\n",
    "class dbhandler_decorator(contextlib.ContextDecorator):\n",
    "    def __enter__(self):\n",
    "        stop_database()\n",
    "\n",
    "    def __exit__(self, ext_type, ex_value, ex_traceback):\n",
    "        start_database()\n",
    "\n",
    "@dbhandler_decorator()\n",
    "def offline_backup():\n",
    "    print(\"pg_dump database\")"
   ]
  },
  {
   "cell_type": "markdown",
   "execution_count": null,
   "metadata": {},
   "outputs": [],
   "source": [
    "## 프로퍼티, 속성과 객체 메서드의 다른 타입들\n",
    "\n",
    "+ 파이썬 객체의 모든 프로퍼티와 함수는 public\n",
    "+ 따라서 엄격한 강제사항은 없지만 밑줄로 시작하는 속성은 해당 객체에 대해 private을 의미하며 외부에서 호출하지 않기를 기대함\n",
    "\n",
    "### 파이썬에서의 밑줄\n",
    "+ 이중 밑줄은 여러 번 확장되는 클래스의 메서드를 이름 충돌 없이 오버라이드하기 위해 만들어짐\n",
    "+ 이중 밑줄이 아닌 하나의 밑줄을 사용하는 파이썬의 관습을 지킬 것\n"
   ]
  },
  {
   "cell_type": "code",
   "execution_count": 7,
   "metadata": {},
   "outputs": [
    {
     "name": "stdout",
     "output_type": "stream",
     "text": "{'source': 'postgresql://localhost', '_timeout': 70}\n"
    }
   ],
   "source": [
    "class Connector:\n",
    "    def __init__(self, source):\n",
    "        self.source = source\n",
    "        self._timeout = 60 # 하나의 밑줄\n",
    "\n",
    "conn = Connector(\"postgresql://localhost\")\n",
    "\n",
    "conn._timeout = 70\n",
    "print(conn.__dict__)"
   ]
  },
  {
   "cell_type": "code",
   "execution_count": 8,
   "metadata": {},
   "outputs": [
    {
     "ename": "AttributeError",
     "evalue": "'Connector' object has no attribute '__timeout'",
     "output_type": "error",
     "traceback": [
      "\u001b[0;31m---------------------------------------------------------------------------\u001b[0m",
      "\u001b[0;31mAttributeError\u001b[0m                            Traceback (most recent call last)",
      "\u001b[0;32m<ipython-input-8-acfb725840a3>\u001b[0m in \u001b[0;36m<module>\u001b[0;34m\u001b[0m\n\u001b[1;32m      8\u001b[0m \u001b[0mconn\u001b[0m \u001b[0;34m=\u001b[0m \u001b[0mConnector\u001b[0m\u001b[0;34m(\u001b[0m\u001b[0;34m\"postgresql://localhost\"\u001b[0m\u001b[0;34m)\u001b[0m\u001b[0;34m\u001b[0m\u001b[0;34m\u001b[0m\u001b[0m\n\u001b[1;32m      9\u001b[0m \u001b[0;34m\u001b[0m\u001b[0m\n\u001b[0;32m---> 10\u001b[0;31m \u001b[0mconn\u001b[0m\u001b[0;34m.\u001b[0m\u001b[0m__timeout\u001b[0m\u001b[0;34m\u001b[0m\u001b[0;34m\u001b[0m\u001b[0m\n\u001b[0m",
      "\u001b[0;31mAttributeError\u001b[0m: 'Connector' object has no attribute '__timeout'"
     ]
    }
   ],
   "source": [
    "class Connector:\n",
    "    def __init__(self, source):\n",
    "        self.source = source\n",
    "        self.__timeout = 60 # 두 개의 밑줄\n",
    "\n",
    "conn = Connector(\"postgresql://localhost\")\n",
    "\n",
    "conn.__timeout # \"접근할 수 없다\"가 아닌 \"존재하지 않는다\"는 오류 발생"
   ]
  },
  {
   "cell_type": "code",
   "execution_count": 10,
   "metadata": {},
   "outputs": [
    {
     "name": "stdout",
     "output_type": "stream",
     "text": "{'source': 'postgresql://localhost', '_Connector__timeout': 80}\n"
    }
   ],
   "source": [
    "conn._Connector__timeout = 80 # 이름이 바뀌어 있음\n",
    "print(conn.__dict__)"
   ]
  },
  {
   "cell_type": "markdown",
   "execution_count": null,
   "metadata": {},
   "outputs": [],
   "source": [
    "### 프로퍼티\n",
    "\n",
    "+ 객체의 어떤 속성에 대한 접근을 제어하려는 경우 사용함 (잘못된 정보의 입력 제한 등)\n",
    "+ 모든 속성에\n"
   ]
  },
  {
   "cell_type": "code",
   "execution_count": 20,
   "metadata": {},
   "outputs": [
    {
     "ename": "ValueError",
     "evalue": "유효한 이메일이 아니므로 shyeon.kang@ 값을 사용할 수 없음",
     "output_type": "error",
     "traceback": [
      "\u001b[0;31m---------------------------------------------------------------------------\u001b[0m",
      "\u001b[0;31mValueError\u001b[0m                                Traceback (most recent call last)",
      "\u001b[0;32m<ipython-input-20-d5bfb8fe6f01>\u001b[0m in \u001b[0;36m<module>\u001b[0;34m\u001b[0m\n\u001b[1;32m     22\u001b[0m \u001b[0;34m\u001b[0m\u001b[0m\n\u001b[1;32m     23\u001b[0m \u001b[0muser\u001b[0m \u001b[0;34m=\u001b[0m \u001b[0mUser\u001b[0m\u001b[0;34m(\u001b[0m\u001b[0;34m\"shyeon.kang\"\u001b[0m\u001b[0;34m)\u001b[0m\u001b[0;34m\u001b[0m\u001b[0;34m\u001b[0m\u001b[0m\n\u001b[0;32m---> 24\u001b[0;31m \u001b[0muser\u001b[0m\u001b[0;34m.\u001b[0m\u001b[0memail\u001b[0m \u001b[0;34m=\u001b[0m \u001b[0;34m\"shyeon.kang@\"\u001b[0m\u001b[0;34m\u001b[0m\u001b[0;34m\u001b[0m\u001b[0m\n\u001b[0m",
      "\u001b[0;32m<ipython-input-20-d5bfb8fe6f01>\u001b[0m in \u001b[0;36memail\u001b[0;34m(self, new_email)\u001b[0m\n\u001b[1;32m     18\u001b[0m     \u001b[0;32mdef\u001b[0m \u001b[0memail\u001b[0m\u001b[0;34m(\u001b[0m\u001b[0mself\u001b[0m\u001b[0;34m,\u001b[0m \u001b[0mnew_email\u001b[0m\u001b[0;34m)\u001b[0m\u001b[0;34m:\u001b[0m\u001b[0;34m\u001b[0m\u001b[0;34m\u001b[0m\u001b[0m\n\u001b[1;32m     19\u001b[0m         \u001b[0;32mif\u001b[0m \u001b[0;32mnot\u001b[0m \u001b[0mis_valid_email\u001b[0m\u001b[0;34m(\u001b[0m\u001b[0mnew_email\u001b[0m\u001b[0;34m)\u001b[0m\u001b[0;34m:\u001b[0m\u001b[0;34m\u001b[0m\u001b[0;34m\u001b[0m\u001b[0m\n\u001b[0;32m---> 20\u001b[0;31m             \u001b[0;32mraise\u001b[0m \u001b[0mValueError\u001b[0m\u001b[0;34m(\u001b[0m\u001b[0;34mf\"유효한 이메일이 아니므로 {new_email} 값을 사용할 수 없음\"\u001b[0m\u001b[0;34m)\u001b[0m\u001b[0;34m\u001b[0m\u001b[0;34m\u001b[0m\u001b[0m\n\u001b[0m\u001b[1;32m     21\u001b[0m         \u001b[0mself\u001b[0m\u001b[0;34m.\u001b[0m\u001b[0m_email\u001b[0m \u001b[0;34m=\u001b[0m \u001b[0mnew_email\u001b[0m\u001b[0;34m\u001b[0m\u001b[0;34m\u001b[0m\u001b[0m\n\u001b[1;32m     22\u001b[0m \u001b[0;34m\u001b[0m\u001b[0m\n",
      "\u001b[0;31mValueError\u001b[0m: 유효한 이메일이 아니므로 shyeon.kang@ 값을 사용할 수 없음"
     ]
    }
   ],
   "source": [
    "import re\n",
    "\n",
    "EMAIL_FORMAT = re.compile(r\"[^@]+@[^@]+[^@]+\")\n",
    "\n",
    "def is_valid_email(potentially_valid_email: str):\n",
    "    return re.match(EMAIL_FORMAT, potentially_valid_email) is not None\n",
    "\n",
    "class User:\n",
    "    def __init__(self, username):\n",
    "        self.username = username\n",
    "        self._email = None\n",
    "\n",
    "    @property\n",
    "    def email(self):\n",
    "        return self._email\n",
    "\n",
    "    @email.setter\n",
    "    def email(self, new_email):\n",
    "        if not is_valid_email(new_email):\n",
    "            raise ValueError(f\"유효한 이메일이 아니므로 {new_email} 값을 사용할 수 없음\")\n",
    "        self._email = new_email\n",
    "\n",
    "user = User(\"shyeon.kang\")\n",
    "user.email = \"shyeon.kang@\""
   ]
  },
  {
   "cell_type": "code",
   "execution_count": 21,
   "metadata": {},
   "outputs": [],
   "source": [
    "user = User(\"Kang Seonghyeon\")\n",
    "user.email = \"Seonghyeon@gmail.com\""
   ]
  },
  {
   "cell_type": "code",
   "execution_count": null,
   "metadata": {},
   "outputs": [],
   "source": []
  }
 ]
}